{
 "cells": [
  {
   "cell_type": "code",
   "execution_count": 1,
   "id": "dd95e91b",
   "metadata": {},
   "outputs": [],
   "source": [
    "from selenium import webdriver"
   ]
  },
  {
   "cell_type": "code",
   "execution_count": 10,
   "id": "acf90cd8",
   "metadata": {},
   "outputs": [
    {
     "name": "stdout",
     "output_type": "stream",
     "text": [
      "Enter the topic for search:python\n"
     ]
    }
   ],
   "source": [
    "search_info = input(\"Enter the topic for search:\")\n",
    "browser = webdriver.Chrome(executable_path='chromedriver.exe')\n",
    "browser.get(\"https://www.google.co.in/search?q=\"+search_info+\"&start=\"+str(1))"
   ]
  }
 ],
 "metadata": {
  "kernelspec": {
   "display_name": "Python 3",
   "language": "python",
   "name": "python3"
  },
  "language_info": {
   "codemirror_mode": {
    "name": "ipython",
    "version": 3
   },
   "file_extension": ".py",
   "mimetype": "text/x-python",
   "name": "python",
   "nbconvert_exporter": "python",
   "pygments_lexer": "ipython3",
   "version": "3.8.8"
  }
 },
 "nbformat": 4,
 "nbformat_minor": 5
}
